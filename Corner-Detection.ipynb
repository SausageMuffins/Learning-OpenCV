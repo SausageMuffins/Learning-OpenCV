{
 "cells": [
  {
   "cell_type": "code",
   "execution_count": 1,
   "metadata": {},
   "outputs": [],
   "source": [
    "import cv2\n",
    "import numpy as np\n",
    "import matplotlib.pyplot as plt"
   ]
  },
  {
   "cell_type": "code",
   "execution_count": 16,
   "metadata": {},
   "outputs": [],
   "source": [
    "# read images\n",
    "flat_chess = cv2.imread(\"DATA/flat_chessboard.png\")\n",
    "real_chess = cv2.imread(\"DATA/real_chessboard.jpg\")\n",
    "\n",
    "flat_chess = cv2.cvtColor(flat_chess, cv2.COLOR_BGR2RGB)\n",
    "real_chess = cv2.cvtColor(real_chess, cv2.COLOR_BGR2RGB)\n",
    "\n",
    "# grayscale\n",
    "gray_flat_chess = cv2.cvtColor(flat_chess, cv2.COLOR_RGB2GRAY)\n",
    "gray_real_chess = cv2.cvtColor(real_chess, cv2.COLOR_BGR2GRAY)\n",
    "\n",
    "# haris corner detection needs floating point values.\n",
    "gray = np.float32(gray_flat_chess)\n",
    "gray2 = np.float32(gray_real_chess)\n",
    "\n",
    "# haris corner detection algorithm\n",
    "dst = cv2.cornerHarris(src=gray, blockSize=2, ksize=3, k=0.04)\n",
    "dst2 = cv2.cornerHarris(src=gray2, blockSize=2, ksize=3, k=0.06)\n",
    "# blockSize: size of neighborhood considered for corner detection\n",
    "# ksize: size of kernel for sobel operators\n",
    "# k: harris detector free parameter in the equation\n",
    "\n",
    "# dilate the corner points to make them more visible\n",
    "dst = cv2.dilate(dst, None) # optional - for visual only.\n",
    "dst2 = cv2.dilate(dst2, None) # optional - for visual only.\n",
    "\n",
    "# whenever my value in the destination image is greater than 1% of the maximum value in the destination image, I'm going to mark that point in the original image as red.\n",
    "flat_chess[dst>0.01*dst.max()] = [255, 0, 0] # good detection\n",
    "real_chess[dst2>0.01*dst2.max()] = [255, 0, 0] # poor detection on real chessboard\n",
    "\n",
    "# plt.imshow(flat_chess)\n",
    "# plt.imshow(real_chess)"
   ]
  },
  {
   "cell_type": "code",
   "execution_count": 33,
   "metadata": {},
   "outputs": [
    {
     "name": "stderr",
     "output_type": "stream",
     "text": [
      "C:\\Users\\nryan\\AppData\\Local\\Temp\\ipykernel_34348\\2176090727.py:22: DeprecationWarning: `np.int0` is a deprecated alias for `np.intp`.  (Deprecated NumPy 1.24)\n",
      "  corners = np.int0(corner)\n",
      "C:\\Users\\nryan\\AppData\\Local\\Temp\\ipykernel_34348\\2176090727.py:23: DeprecationWarning: `np.int0` is a deprecated alias for `np.intp`.  (Deprecated NumPy 1.24)\n",
      "  corner2 = np.int0(corner2)\n"
     ]
    }
   ],
   "source": [
    "# Shi Tomasi Corner Algorithm\n",
    "# read images\n",
    "flat_chess = cv2.imread(\"DATA/flat_chessboard.png\")\n",
    "real_chess = cv2.imread(\"DATA/real_chessboard.jpg\")\n",
    "\n",
    "flat_chess = cv2.cvtColor(flat_chess, cv2.COLOR_BGR2RGB)\n",
    "real_chess = cv2.cvtColor(real_chess, cv2.COLOR_BGR2RGB)\n",
    "\n",
    "# grayscale\n",
    "gray_flat_chess = cv2.cvtColor(flat_chess, cv2.COLOR_RGB2GRAY)\n",
    "gray_real_chess = cv2.cvtColor(real_chess, cv2.COLOR_BGR2GRAY)\n",
    "\n",
    "# goodFeaturesToTrack(image, maxCorners, qualityLevel, minDistance)\n",
    "corner = cv2.goodFeaturesToTrack(gray_flat_chess, 50, 0.01, 10)\n",
    "corner2 = cv2.goodFeaturesToTrack(gray_real_chess, 90, 0.01, 10)\n",
    "# maxCorners: maximum (best) number of corners to return\n",
    "# qualityLevel: minimum accepted quality of image corners\n",
    "# minDistance: minimum possible Euclidean distance between the returned corners\n",
    "\n",
    "# marking corners\n",
    "# convert to integer values\n",
    "corners = np.int0(corner)\n",
    "corner2 = np.int0(corner2)\n",
    "\n",
    "for i in corners:\n",
    "    x,y = i.ravel() # ravel() flattens the array\n",
    "    cv2.circle(flat_chess, (x,y), 3, (255,0,0), -1) # draw a circle on the corner points\n",
    "\n",
    "for j in corner2:\n",
    "    x,y = j.ravel()\n",
    "    cv2.circle(real_chess, (x,y), 3, (255,0,0), -1) # draw a circle on the corner points\n",
    "\n",
    "# plt.imshow(flat_chess)\n",
    "# plt.imshow(real_chess)"
   ]
  }
 ],
 "metadata": {
  "kernelspec": {
   "display_name": "base",
   "language": "python",
   "name": "python3"
  },
  "language_info": {
   "codemirror_mode": {
    "name": "ipython",
    "version": 3
   },
   "file_extension": ".py",
   "mimetype": "text/x-python",
   "name": "python",
   "nbconvert_exporter": "python",
   "pygments_lexer": "ipython3",
   "version": "3.10.9"
  },
  "orig_nbformat": 4
 },
 "nbformat": 4,
 "nbformat_minor": 2
}
