{
 "cells": [
  {
   "cell_type": "code",
   "execution_count": 5,
   "metadata": {},
   "outputs": [],
   "source": [
    "import cv2\n",
    "cap = cv2.VideoCapture(0) # Using default camera/webcam to capture video feed.\n",
    "\n",
    "width = cap.get(cv2.CAP_PROP_FRAME_WIDTH) # Width of the frames in the video feed\n",
    "height = cap.get(cv2.CAP_PROP_FRAME_HEIGHT) # Height of the frames in the video feed\n",
    "\n",
    "# note that width and height are floats, so convert them to ints.\n",
    "width = int(width)\n",
    "height = int(height)\n",
    "\n",
    "# write the video to a file\n",
    "# cv2.VideoWriter(\"filename\", codec, fps, (width, height))\n",
    "\n",
    "writer = cv2.VideoWriter(\"TestVideo.mp4\", cv2.VideoWriter_fourcc(*\"DIVX\"), 20, (width, height))\n",
    "# cv2.VideoWriter_fourcc(*\"DIVX\") is the codec used to encode the video - DIVX is popular for windows.\n",
    "# use \"XVID\" for linux and mac.\n",
    "\n",
    "\n",
    "\n",
    "# display image #\n",
    "while(True):\n",
    "    ret, frame = cap.read() # read the frame from the video feed\n",
    "    # gray = cv2.cvtColor(frame, cv2.COLOR_BGR2GRAY) # convert the frame to grayscale\n",
    "    \n",
    "    writer.write(frame) # write the frame to the video file\n",
    "    \n",
    "    cv2.imshow(\"frame\", frame) # display the grayscale frame\n",
    "    \n",
    "    if cv2.waitKey(1) & 0xFF==ord(\"q\"): # list for q press.\n",
    "        break\n",
    "\n",
    "cap.release() # release the video feed\n",
    "writer.release() # release the video writer\n",
    "cv2.destroyAllWindows() # destroy all windows"
   ]
  },
  {
   "cell_type": "code",
   "execution_count": 10,
   "metadata": {},
   "outputs": [],
   "source": [
    "import cv2\n",
    "import time\n",
    "\n",
    "cap = cv2.VideoCapture(\"TestVideo.mp4\") # read the video file\n",
    "\n",
    "if cap.isOpened() == False: # check if the file can be found.\n",
    "    print(\"Error opening the video file.\")\n",
    "    \n",
    "while cap.isOpened(): # while the video is playing\n",
    "    ret, frame = cap.read() # read the frame\n",
    "    \n",
    "    if ret == True: # the video is still playing\n",
    "        \n",
    "        # WRITER AT 30 FPS\n",
    "        time.sleep(1/30) # sleep for 1/20th of a second to simulate 20fps. -- 1/fps\n",
    "        cv2.imshow(\"frame\", frame) # display the frame\n",
    "        \n",
    "        if cv2.waitKey(1) & 0xFF == ord(\"q\"): # listen for q press to exit\n",
    "            break\n",
    "    \n",
    "    else: # no more frames - end of video\n",
    "        break\n",
    "\n",
    "cap.release()\n",
    "cv2.destroyAllWindows()"
   ]
  }
 ],
 "metadata": {
  "kernelspec": {
   "display_name": "base",
   "language": "python",
   "name": "python3"
  },
  "language_info": {
   "codemirror_mode": {
    "name": "ipython",
    "version": 3
   },
   "file_extension": ".py",
   "mimetype": "text/x-python",
   "name": "python",
   "nbconvert_exporter": "python",
   "pygments_lexer": "ipython3",
   "version": "3.9.16"
  },
  "orig_nbformat": 4
 },
 "nbformat": 4,
 "nbformat_minor": 2
}
